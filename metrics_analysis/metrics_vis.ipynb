{
 "cells": [
  {
   "cell_type": "code",
   "execution_count": 1,
   "metadata": {},
   "outputs": [],
   "source": [
    "import pandas as pd\n",
    "import time\n",
    "import psycopg2"
   ]
  },
  {
   "cell_type": "code",
   "execution_count": 2,
   "metadata": {},
   "outputs": [],
   "source": [
    "from creds import creds"
   ]
  },
  {
   "cell_type": "code",
   "execution_count": 10,
   "metadata": {},
   "outputs": [],
   "source": [
    "import matplotlib as plt\n",
    "%matplotlib inline"
   ]
  },
  {
   "cell_type": "code",
   "execution_count": 6,
   "metadata": {},
   "outputs": [],
   "source": [
    "conn = psycopg2.connect( host=creds['hostname'], user=creds['username'], password=creds['password'], dbname=creds['database'] )\n"
   ]
  },
  {
   "cell_type": "code",
   "execution_count": 5,
   "metadata": {},
   "outputs": [],
   "source": [
    "metrics_query = \"\"\"SELECT * from public.geo_ops_metrics\"\"\""
   ]
  },
  {
   "cell_type": "code",
   "execution_count": 7,
   "metadata": {},
   "outputs": [],
   "source": [
    "metrics_frame = pd.read_sql(metrics_query, conn)"
   ]
  },
  {
   "cell_type": "code",
   "execution_count": 8,
   "metadata": {},
   "outputs": [
    {
     "data": {
      "text/html": [
       "<div>\n",
       "<style scoped>\n",
       "    .dataframe tbody tr th:only-of-type {\n",
       "        vertical-align: middle;\n",
       "    }\n",
       "\n",
       "    .dataframe tbody tr th {\n",
       "        vertical-align: top;\n",
       "    }\n",
       "\n",
       "    .dataframe thead th {\n",
       "        text-align: right;\n",
       "    }\n",
       "</style>\n",
       "<table border=\"1\" class=\"dataframe\">\n",
       "  <thead>\n",
       "    <tr style=\"text-align: right;\">\n",
       "      <th></th>\n",
       "      <th>runid</th>\n",
       "      <th>start_time</th>\n",
       "      <th>spatial_index</th>\n",
       "      <th>intersect_time</th>\n",
       "      <th>join_time</th>\n",
       "      <th>cluster_time</th>\n",
       "      <th>stop_time</th>\n",
       "      <th>total_time</th>\n",
       "    </tr>\n",
       "  </thead>\n",
       "  <tbody>\n",
       "    <tr>\n",
       "      <th>0</th>\n",
       "      <td>0</td>\n",
       "      <td>2020-04-03 17:25:57</td>\n",
       "      <td>r_tree</td>\n",
       "      <td>2.227710</td>\n",
       "      <td>3.042534</td>\n",
       "      <td>77.800949</td>\n",
       "      <td>2020-04-03 17:27:20</td>\n",
       "      <td>83.071770</td>\n",
       "    </tr>\n",
       "    <tr>\n",
       "      <th>1</th>\n",
       "      <td>1</td>\n",
       "      <td>2020-04-03 17:27:20</td>\n",
       "      <td>r_tree</td>\n",
       "      <td>2.276417</td>\n",
       "      <td>2.641897</td>\n",
       "      <td>78.169924</td>\n",
       "      <td>2020-04-03 17:28:43</td>\n",
       "      <td>83.088809</td>\n",
       "    </tr>\n",
       "    <tr>\n",
       "      <th>2</th>\n",
       "      <td>2</td>\n",
       "      <td>2020-04-03 17:28:43</td>\n",
       "      <td>r_tree</td>\n",
       "      <td>2.388685</td>\n",
       "      <td>2.396313</td>\n",
       "      <td>79.494080</td>\n",
       "      <td>2020-04-03 17:30:08</td>\n",
       "      <td>84.279687</td>\n",
       "    </tr>\n",
       "    <tr>\n",
       "      <th>3</th>\n",
       "      <td>3</td>\n",
       "      <td>2020-04-03 17:30:08</td>\n",
       "      <td>r_tree</td>\n",
       "      <td>2.246537</td>\n",
       "      <td>2.978156</td>\n",
       "      <td>78.026173</td>\n",
       "      <td>2020-04-03 17:31:31</td>\n",
       "      <td>83.251483</td>\n",
       "    </tr>\n",
       "    <tr>\n",
       "      <th>4</th>\n",
       "      <td>4</td>\n",
       "      <td>2020-04-03 17:31:31</td>\n",
       "      <td>r_tree</td>\n",
       "      <td>2.197565</td>\n",
       "      <td>2.649561</td>\n",
       "      <td>78.421964</td>\n",
       "      <td>2020-04-03 17:32:54</td>\n",
       "      <td>83.269737</td>\n",
       "    </tr>\n",
       "  </tbody>\n",
       "</table>\n",
       "</div>"
      ],
      "text/plain": [
       "   runid          start_time spatial_index  intersect_time  join_time  \\\n",
       "0      0 2020-04-03 17:25:57        r_tree        2.227710   3.042534   \n",
       "1      1 2020-04-03 17:27:20        r_tree        2.276417   2.641897   \n",
       "2      2 2020-04-03 17:28:43        r_tree        2.388685   2.396313   \n",
       "3      3 2020-04-03 17:30:08        r_tree        2.246537   2.978156   \n",
       "4      4 2020-04-03 17:31:31        r_tree        2.197565   2.649561   \n",
       "\n",
       "   cluster_time           stop_time  total_time  \n",
       "0     77.800949 2020-04-03 17:27:20   83.071770  \n",
       "1     78.169924 2020-04-03 17:28:43   83.088809  \n",
       "2     79.494080 2020-04-03 17:30:08   84.279687  \n",
       "3     78.026173 2020-04-03 17:31:31   83.251483  \n",
       "4     78.421964 2020-04-03 17:32:54   83.269737  "
      ]
     },
     "execution_count": 8,
     "metadata": {},
     "output_type": "execute_result"
    }
   ],
   "source": [
    "metrics_frame.head()"
   ]
  },
  {
   "cell_type": "code",
   "execution_count": 13,
   "metadata": {},
   "outputs": [
    {
     "data": {
      "text/plain": [
       "<matplotlib.axes._subplots.AxesSubplot at 0x7f9de8434438>"
      ]
     },
     "execution_count": 13,
     "metadata": {},
     "output_type": "execute_result"
    },
    {
     "data": {
      "image/png": "[encoded data removed]",
      "text/plain": [
       "<matplotlib.figure.Figure at 0x7f9de8526390>"
      ]
     },
     "metadata": {},
     "output_type": "display_data"
    }
   ],
   "source": [
    "metrics_frame.boxplot(column=['intersect_time','join_time','cluster_time','total_time'])"
   ]
  },
  {
   "cell_type": "code",
   "execution_count": null,
   "metadata": {},
   "outputs": [],
   "source": []
  }
 ],
 "metadata": {
  "kernelspec": {
   "display_name": "Python 3",
   "language": "python",
   "name": "python3"
  },
  "language_info": {
   "codemirror_mode": {
    "name": "ipython",
    "version": 3
   },
   "file_extension": ".py",
   "mimetype": "text/x-python",
   "name": "python",
   "nbconvert_exporter": "python",
   "pygments_lexer": "ipython3",
   "version": "3.6.9"
  }
 },
 "nbformat": 4,
 "nbformat_minor": 2
}
