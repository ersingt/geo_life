{
 "cells": [
  {
   "cell_type": "code",
   "execution_count": 1,
   "metadata": {},
   "outputs": [],
   "source": [
    "import psycopg2\n",
    "import sqlalchemy\n",
    "from sqlalchemy import create_engine\n",
    "import matplotlib as plt\n",
    "import pandas as pd\n",
    "import geopandas as gpd\n",
    "import time\n",
    "%matplotlib inline"
   ]
  },
  {
   "cell_type": "code",
   "execution_count": 7,
   "metadata": {},
   "outputs": [],
   "source": [
    "from creds import creds"
   ]
  },
  {
   "cell_type": "code",
   "execution_count": 8,
   "metadata": {},
   "outputs": [],
   "source": [
    "conn = psycopg2.connect( host=creds['hostname'], user=creds['username'], password=creds['password'], dbname=creds['database'] )\n",
    "#conn.close()"
   ]
  },
  {
   "cell_type": "code",
   "execution_count": 9,
   "metadata": {},
   "outputs": [],
   "source": [
    "osm_query = \"SELECT * FROM public.osm_pois_ref limit 10\""
   ]
  },
  {
   "cell_type": "code",
   "execution_count": 10,
   "metadata": {},
   "outputs": [
    {
     "name": "stdout",
     "output_type": "stream",
     "text": [
      "0.12932634353637695\n"
     ]
    }
   ],
   "source": [
    "start = time.time()\n",
    "osm_pois = pd.read_sql_query(osm_query ,conn)\n",
    "elapsed_time_fl = (time.time() - start) \n",
    "print(elapsed_time_fl)"
   ]
  },
  {
   "cell_type": "code",
   "execution_count": null,
   "metadata": {},
   "outputs": [],
   "source": []
  },
  {
   "cell_type": "code",
   "execution_count": 26,
   "metadata": {},
   "outputs": [
    {
     "data": {
      "text/html": [
       "<div>\n",
       "<style scoped>\n",
       "    .dataframe tbody tr th:only-of-type {\n",
       "        vertical-align: middle;\n",
       "    }\n",
       "\n",
       "    .dataframe tbody tr th {\n",
       "        vertical-align: top;\n",
       "    }\n",
       "\n",
       "    .dataframe thead th {\n",
       "        text-align: right;\n",
       "    }\n",
       "</style>\n",
       "<table border=\"1\" class=\"dataframe\">\n",
       "  <thead>\n",
       "    <tr style=\"text-align: right;\">\n",
       "      <th></th>\n",
       "      <th>lat</th>\n",
       "      <th>lon</th>\n",
       "      <th>osm_id</th>\n",
       "      <th>code</th>\n",
       "      <th>fclass</th>\n",
       "      <th>place_name</th>\n",
       "      <th>uuid</th>\n",
       "      <th>geom</th>\n",
       "    </tr>\n",
       "  </thead>\n",
       "  <tbody>\n",
       "    <tr>\n",
       "      <td>0</td>\n",
       "      <td>39.903840</td>\n",
       "      <td>98.430604</td>\n",
       "      <td>1.144829e+09</td>\n",
       "      <td>2950</td>\n",
       "      <td>tower</td>\n",
       "      <td>None</td>\n",
       "      <td>6625</td>\n",
       "      <td>0101000020E61000004C21EB048F9B58401C284B08B1F3...</td>\n",
       "    </tr>\n",
       "    <tr>\n",
       "      <td>1</td>\n",
       "      <td>22.373838</td>\n",
       "      <td>114.020667</td>\n",
       "      <td>1.167439e+09</td>\n",
       "      <td>2901</td>\n",
       "      <td>toilet</td>\n",
       "      <td>None</td>\n",
       "      <td>6721</td>\n",
       "      <td>0101000020E61000002F66F09C52815C402DFD95DFB35F...</td>\n",
       "    </tr>\n",
       "    <tr>\n",
       "      <td>2</td>\n",
       "      <td>21.982135</td>\n",
       "      <td>101.467496</td>\n",
       "      <td>1.681703e+09</td>\n",
       "      <td>2001</td>\n",
       "      <td>police</td>\n",
       "      <td>None</td>\n",
       "      <td>10753</td>\n",
       "      <td>0101000020E610000046802E75EB5D59402145532C6DFB...</td>\n",
       "    </tr>\n",
       "    <tr>\n",
       "      <td>3</td>\n",
       "      <td>36.288417</td>\n",
       "      <td>120.261714</td>\n",
       "      <td>2.427710e+09</td>\n",
       "      <td>2301</td>\n",
       "      <td>restaurant</td>\n",
       "      <td>None</td>\n",
       "      <td>21478</td>\n",
       "      <td>0101000020E6100000F1B913ECBF105E40CF4FCCD5EA24...</td>\n",
       "    </tr>\n",
       "    <tr>\n",
       "      <td>4</td>\n",
       "      <td>39.780702</td>\n",
       "      <td>116.500144</td>\n",
       "      <td>2.610694e+09</td>\n",
       "      <td>2566</td>\n",
       "      <td>bicycle_rental</td>\n",
       "      <td>None</td>\n",
       "      <td>23416</td>\n",
       "      <td>0101000020E61000002E92D15C02205D40AAF7AF07EEE3...</td>\n",
       "    </tr>\n",
       "  </tbody>\n",
       "</table>\n",
       "</div>"
      ],
      "text/plain": [
       "         lat         lon        osm_id  code          fclass place_name  \\\n",
       "0  39.903840   98.430604  1.144829e+09  2950           tower       None   \n",
       "1  22.373838  114.020667  1.167439e+09  2901          toilet       None   \n",
       "2  21.982135  101.467496  1.681703e+09  2001          police       None   \n",
       "3  36.288417  120.261714  2.427710e+09  2301      restaurant       None   \n",
       "4  39.780702  116.500144  2.610694e+09  2566  bicycle_rental       None   \n",
       "\n",
       "    uuid                                               geom  \n",
       "0   6625  0101000020E61000004C21EB048F9B58401C284B08B1F3...  \n",
       "1   6721  0101000020E61000002F66F09C52815C402DFD95DFB35F...  \n",
       "2  10753  0101000020E610000046802E75EB5D59402145532C6DFB...  \n",
       "3  21478  0101000020E6100000F1B913ECBF105E40CF4FCCD5EA24...  \n",
       "4  23416  0101000020E61000002E92D15C02205D40AAF7AF07EEE3...  "
      ]
     },
     "execution_count": 26,
     "metadata": {},
     "output_type": "execute_result"
    }
   ],
   "source": [
    "osm_pois.head()"
   ]
  },
  {
   "cell_type": "markdown",
   "metadata": {},
   "source": [
    "# Geopandas Implementation"
   ]
  },
  {
   "cell_type": "code",
   "execution_count": 28,
   "metadata": {},
   "outputs": [],
   "source": [
    "osm_pois_gpd = gpd.read_postgis(sql = osm_query, con = conn)"
   ]
  },
  {
   "cell_type": "code",
   "execution_count": 29,
   "metadata": {},
   "outputs": [
    {
     "data": {
      "text/html": [
       "<div>\n",
       "<style scoped>\n",
       "    .dataframe tbody tr th:only-of-type {\n",
       "        vertical-align: middle;\n",
       "    }\n",
       "\n",
       "    .dataframe tbody tr th {\n",
       "        vertical-align: top;\n",
       "    }\n",
       "\n",
       "    .dataframe thead th {\n",
       "        text-align: right;\n",
       "    }\n",
       "</style>\n",
       "<table border=\"1\" class=\"dataframe\">\n",
       "  <thead>\n",
       "    <tr style=\"text-align: right;\">\n",
       "      <th></th>\n",
       "      <th>lat</th>\n",
       "      <th>lon</th>\n",
       "      <th>osm_id</th>\n",
       "      <th>code</th>\n",
       "      <th>fclass</th>\n",
       "      <th>place_name</th>\n",
       "      <th>uuid</th>\n",
       "      <th>geom</th>\n",
       "    </tr>\n",
       "  </thead>\n",
       "  <tbody>\n",
       "    <tr>\n",
       "      <td>0</td>\n",
       "      <td>39.903840</td>\n",
       "      <td>98.430604</td>\n",
       "      <td>1.144829e+09</td>\n",
       "      <td>2950</td>\n",
       "      <td>tower</td>\n",
       "      <td>None</td>\n",
       "      <td>6625</td>\n",
       "      <td>POINT (98.43060 39.90384)</td>\n",
       "    </tr>\n",
       "    <tr>\n",
       "      <td>1</td>\n",
       "      <td>22.373838</td>\n",
       "      <td>114.020667</td>\n",
       "      <td>1.167439e+09</td>\n",
       "      <td>2901</td>\n",
       "      <td>toilet</td>\n",
       "      <td>None</td>\n",
       "      <td>6721</td>\n",
       "      <td>POINT (114.02067 22.37384)</td>\n",
       "    </tr>\n",
       "    <tr>\n",
       "      <td>2</td>\n",
       "      <td>21.982135</td>\n",
       "      <td>101.467496</td>\n",
       "      <td>1.681703e+09</td>\n",
       "      <td>2001</td>\n",
       "      <td>police</td>\n",
       "      <td>None</td>\n",
       "      <td>10753</td>\n",
       "      <td>POINT (101.46750 21.98213)</td>\n",
       "    </tr>\n",
       "    <tr>\n",
       "      <td>3</td>\n",
       "      <td>36.288417</td>\n",
       "      <td>120.261714</td>\n",
       "      <td>2.427710e+09</td>\n",
       "      <td>2301</td>\n",
       "      <td>restaurant</td>\n",
       "      <td>None</td>\n",
       "      <td>21478</td>\n",
       "      <td>POINT (120.26171 36.28842)</td>\n",
       "    </tr>\n",
       "    <tr>\n",
       "      <td>4</td>\n",
       "      <td>39.780702</td>\n",
       "      <td>116.500144</td>\n",
       "      <td>2.610694e+09</td>\n",
       "      <td>2566</td>\n",
       "      <td>bicycle_rental</td>\n",
       "      <td>None</td>\n",
       "      <td>23416</td>\n",
       "      <td>POINT (116.50014 39.78070)</td>\n",
       "    </tr>\n",
       "  </tbody>\n",
       "</table>\n",
       "</div>"
      ],
      "text/plain": [
       "         lat         lon        osm_id  code          fclass place_name  \\\n",
       "0  39.903840   98.430604  1.144829e+09  2950           tower       None   \n",
       "1  22.373838  114.020667  1.167439e+09  2901          toilet       None   \n",
       "2  21.982135  101.467496  1.681703e+09  2001          police       None   \n",
       "3  36.288417  120.261714  2.427710e+09  2301      restaurant       None   \n",
       "4  39.780702  116.500144  2.610694e+09  2566  bicycle_rental       None   \n",
       "\n",
       "    uuid                        geom  \n",
       "0   6625   POINT (98.43060 39.90384)  \n",
       "1   6721  POINT (114.02067 22.37384)  \n",
       "2  10753  POINT (101.46750 21.98213)  \n",
       "3  21478  POINT (120.26171 36.28842)  \n",
       "4  23416  POINT (116.50014 39.78070)  "
      ]
     },
     "execution_count": 29,
     "metadata": {},
     "output_type": "execute_result"
    }
   ],
   "source": [
    "osm_pois_gpd.head()"
   ]
  },
  {
   "cell_type": "code",
   "execution_count": null,
   "metadata": {},
   "outputs": [],
   "source": []
  }
 ],
 "metadata": {
  "kernelspec": {
   "display_name": "Python 3",
   "language": "python",
   "name": "python3"
  },
  "language_info": {
   "codemirror_mode": {
    "name": "ipython",
    "version": 3
   },
   "file_extension": ".py",
   "mimetype": "text/x-python",
   "name": "python",
   "nbconvert_exporter": "python",
   "pygments_lexer": "ipython3",
   "version": "3.7.4"
  }
 },
 "nbformat": 4,
 "nbformat_minor": 2
}
