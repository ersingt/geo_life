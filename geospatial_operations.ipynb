{
 "cells": [
  {
   "cell_type": "code",
   "execution_count": 1,
   "metadata": {},
   "outputs": [],
   "source": [
    "#imports\n",
    "import psycopg2\n",
    "import sqlalchemy\n",
    "from sqlalchemy import create_engine\n",
    "import matplotlib as plt\n",
    "import pandas as pd\n",
    "import geopandas as gpd\n",
    "import time\n",
    "%matplotlib inline"
   ]
  },
  {
   "cell_type": "code",
   "execution_count": 7,
   "metadata": {},
   "outputs": [],
   "source": [
    "#import credentials from cred.py file\n",
    "from creds import creds"
   ]
  },
  {
   "cell_type": "code",
   "execution_count": 8,
   "metadata": {},
   "outputs": [],
   "source": [
    "#establish database connection\n",
    "conn = psycopg2.connect( host=creds['hostname'], user=creds['username'], password=creds['password'], dbname=creds['database'] )\n",
    "#conn.close()"
   ]
  },
  {
   "cell_type": "markdown",
   "metadata": {},
   "source": [
    "### Intersection Query\n",
    "\n",
    "Find the intersection between geolife_data and osm_pois_buffer_ref"
   ]
  },
  {
   "cell_type": "code",
   "execution_count": 10,
   "metadata": {},
   "outputs": [
    {
     "name": "stdout",
     "output_type": "stream",
     "text": [
      "0.12932634353637695\n"
     ]
    }
   ],
   "source": [
    "start = time.time()\n",
    "intersection_query = \"\"\"SELECT * FROM public.osm_pois_ref limit 10\"\"\"\n",
    "intersection_frame = pd.read_sql_query(intersection_query ,conn)\n",
    "elapsed_time_fl = (time.time() - start) \n",
    "print('Time for Intersection: {} s'.format(elapsed_time_fl))"
   ]
  },
  {
   "cell_type": "markdown",
   "metadata": {},
   "source": [
    "### Spatial Join"
   ]
  },
  {
   "cell_type": "code",
   "execution_count": null,
   "metadata": {},
   "outputs": [],
   "source": [
    "start = time.time()\n",
    "join_query = \"\"\"SELECT * FROM public.osm_pois_ref limit 10\"\"\"\n",
    "join_frame = pd.read_sql_query(join_query ,conn)\n",
    "elapsed_time_fl = (time.time() - start) \n",
    "print('Time for Spatial Join: {} s'.format(elapsed_time_fl))"
   ]
  },
  {
   "cell_type": "markdown",
   "metadata": {},
   "source": [
    "### Spatial Clustering"
   ]
  },
  {
   "cell_type": "code",
   "execution_count": null,
   "metadata": {},
   "outputs": [],
   "source": [
    "start = time.time()\n",
    "spatial_query = \"\"\"SELECT *, ST_ClusterDBSCAN(geom, eps := 300, minPoints := 1000)\n",
    "                OVER(ORDER BY user_id) AS cluster_id FROM geolife_data\n",
    "                LIMIT 8;\"\"\"\n",
    "spatial_clusters = pd.read_sql_query(spatial_query ,conn)\n",
    "elapsed_time_fl = (time.time() - start) \n",
    "print('Time for Spatial Clustering: {} s'.format(elapsed_time_fl))"
   ]
  },
  {
   "cell_type": "code",
   "execution_count": 11,
   "metadata": {},
   "outputs": [],
   "source": [
    "#set up a geopandas dataframe from sql query\n",
    "#osm_pois_gpd = gpd.read_postgis(sql = osm_query, con = conn)\n",
    "#osm_pois_gpd.head()"
   ]
  },
  {
   "cell_type": "code",
   "execution_count": null,
   "metadata": {},
   "outputs": [],
   "source": [
    "conn.close()"
   ]
  }
 ],
 "metadata": {
  "kernelspec": {
   "display_name": "Python 3",
   "language": "python",
   "name": "python3"
  },
  "language_info": {
   "codemirror_mode": {
    "name": "ipython",
    "version": 3
   },
   "file_extension": ".py",
   "mimetype": "text/x-python",
   "name": "python",
   "nbconvert_exporter": "python",
   "pygments_lexer": "ipython3",
   "version": "3.7.4"
  }
 },
 "nbformat": 4,
 "nbformat_minor": 2
}
